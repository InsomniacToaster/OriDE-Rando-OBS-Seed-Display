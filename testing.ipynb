{
 "cells": [
  {
   "cell_type": "code",
   "execution_count": 1,
   "metadata": {},
   "outputs": [],
   "source": [
    "# Most of the applicable randomizer headers\n",
    "logic_modes = ['Casual', 'Standard', 'Expert', 'Master', 'Glitched', 'Custom']\n",
    "key_modes = ['Shards', 'Clues', 'Limitkeys', 'Free', 'Default']\n",
    "goal_modes = ['ForceTrees', 'WorldTour', 'ForceMaps', 'WarmthFrags']\n",
    "# variations = ['NonProgressMapStones', 'Entrance', 'Hard', 'StompTriggers', 'NoExtraExp', 'Bingo', 'Race', 'KeysOnlyForDoors', 'WarpsInsteadOfTPs', 'WarpCount', 'StartingHealth', 'StartingEnergy', 'StartingSkills', 'NoTPs']\n",
    "variations = ['Starved', 'OHKO', '0XP', 'ClosedDungeons', 'OpenWorld', 'DoubleSkills', 'StrictMapstones', 'TPStarved', 'GoalModeFinish', 'WallStarved', 'GrenadeStarved', 'InLogicWarps']\n",
    "item_pool = ['pool=Competitive', 'pool=BonusLite', 'pool=BonusPickups']\n",
    "path_difficulty = ['prefer_path_difficulty=Easy', 'prefer_path_difficulty=Hard'] # Normal if blank\n",
    "file_algorithm = ['balanced'] # Classic if blank\n",
    "\n",
    "# user-selectable(eventually) booleans to determine what is displayed in OBS at the end\n",
    "display_logic_mode = True\n",
    "display_key_mode = True\n",
    "display_goal_mode = True\n",
    "display_selected_variations = True\n",
    "display_item_pool = True\n",
    "display_path_difficulty = True\n",
    "display_file_algorithm = True\n",
    "display_seed_name = True\n",
    "\n",
    "booleans = [display_logic_mode, display_key_mode, display_goal_mode, display_selected_variations, display_item_pool, display_path_difficulty, display_file_algorithm, display_seed_name]\n",
    "seed_display = []\n",
    "\n",
    "# loading up the randomizer.dat file\n",
    "randomizer_path = r'D:\\games\\steam\\steamapps\\common\\Ori DE\\randomizer.dat'\n",
    "\n",
    "with open(randomizer_path, 'r', encoding='utf-8') as f:\n",
    "    headers = f.readline()\n",
    "\n",
    "# stripping newline from end of header line (if existing) and splits the data into a list\n"
   ]
  },
  {
   "cell_type": "code",
   "execution_count": 2,
   "metadata": {},
   "outputs": [],
   "source": [
    "headers = headers.split(\"|\", 1)\n",
    "headers[-1] = headers[-1].strip()\n",
    "headers0 = headers[0].split(\",\")\n",
    "headers1 = headers[1]\n",
    "headers = headers0\n",
    "headers.append(headers1)"
   ]
  },
  {
   "cell_type": "code",
   "execution_count": 3,
   "metadata": {},
   "outputs": [
    {
     "name": "stdout",
     "output_type": "stream",
     "text": [
      "['Sync53407.1', 'Standard', 'Clues', 'ForceTrees', 'balanced', '|T|E|S|T|!|lk;ewfjoiew?@?@?@@?@?@?##))#))#)))#:::@@:@:@:!!!']\n",
      "linebreak?\n",
      "|T|E|S|T|!|lk;ewfjoiew?@?@?@@?@?@?##))#))#)))#:::@@:@:@:!!!\n"
     ]
    }
   ],
   "source": [
    "print(headers)\n",
    "print(\"linebreak?\")\n",
    "print(headers[-1])"
   ]
  },
  {
   "cell_type": "code",
   "execution_count": 4,
   "metadata": {},
   "outputs": [
    {
     "name": "stdout",
     "output_type": "stream",
     "text": [
      "True\n",
      "True\n",
      "True\n",
      "True\n",
      "True\n",
      "True\n",
      "True\n",
      "True\n"
     ]
    }
   ],
   "source": [
    "for option in booleans:\n",
    "    print(option)"
   ]
  }
 ],
 "metadata": {
  "kernelspec": {
   "display_name": "Python 3",
   "language": "python",
   "name": "python3"
  },
  "language_info": {
   "codemirror_mode": {
    "name": "ipython",
    "version": 3
   },
   "file_extension": ".py",
   "mimetype": "text/x-python",
   "name": "python",
   "nbconvert_exporter": "python",
   "pygments_lexer": "ipython3",
   "version": "3.10.10"
  },
  "orig_nbformat": 4
 },
 "nbformat": 4,
 "nbformat_minor": 2
}
